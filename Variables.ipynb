{
 "cells": [
  {
   "cell_type": "markdown",
   "id": "6151d60b",
   "metadata": {},
   "source": [
    "## What are Variables?"
   ]
  },
  {
   "cell_type": "markdown",
   "id": "7c2d60a5",
   "metadata": {},
   "source": [
    "##Variables are containers for storing values \n",
    "##Variables cant start with numbers\n",
    "##python has no command for declaring variables\n",
    "##When you assign a value, a variable is created\n"
   ]
  },
  {
   "cell_type": "markdown",
   "id": "10bc2371",
   "metadata": {},
   "source": [
    "### Rules for creating variables\n"
   ]
  },
  {
   "cell_type": "markdown",
   "id": "59fcbe7b",
   "metadata": {},
   "source": [
    "Must start with a letter or underscore character"
   ]
  },
  {
   "cell_type": "markdown",
   "id": "f3f5267f",
   "metadata": {},
   "source": [
    "Only alpanumeric and numbers allowed"
   ]
  },
  {
   "cell_type": "markdown",
   "id": "befa2460",
   "metadata": {},
   "source": [
    "Variables are case sensitive"
   ]
  },
  {
   "cell_type": "code",
   "execution_count": null,
   "id": "1f4b0709",
   "metadata": {},
   "outputs": [],
   "source": []
  }
 ],
 "metadata": {
  "kernelspec": {
   "display_name": "Python 3 (ipykernel)",
   "language": "python",
   "name": "python3"
  },
  "language_info": {
   "codemirror_mode": {
    "name": "ipython",
    "version": 3
   },
   "file_extension": ".py",
   "mimetype": "text/x-python",
   "name": "python",
   "nbconvert_exporter": "python",
   "pygments_lexer": "ipython3",
   "version": "3.9.7"
  }
 },
 "nbformat": 4,
 "nbformat_minor": 5
}
